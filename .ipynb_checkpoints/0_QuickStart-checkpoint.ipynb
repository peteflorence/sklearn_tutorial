{
 "metadata": {
  "name": "",
  "signature": "sha256:b1705566a2277aba15a1960a81dbcb3fe6387670987f8effedafeb104e724425"
 },
 "nbformat": 3,
 "nbformat_minor": 0,
 "worksheets": []
}